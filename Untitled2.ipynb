{
 "cells": [
  {
   "cell_type": "code",
   "execution_count": 4,
   "id": "d8ad4398",
   "metadata": {},
   "outputs": [],
   "source": [
    "A = Matrix([[25,34,18],[-14,-19,-10],[-4,-6,-1]])\n",
    "\n"
   ]
  },
  {
   "cell_type": "code",
   "execution_count": 16,
   "id": "53bac4c6",
   "metadata": {},
   "outputs": [
    {
     "data": {
      "text/plain": [
       "\\left(\\begin{array}{rrr}\n",
       "22 & 34 & 18 \\\\\n",
       "-14 & -22 & -10 \\\\\n",
       "-4 & -6 & -4\n",
       "\\end{array}\\right)"
      ]
     },
     "execution_count": 16,
     "metadata": {},
     "output_type": "execute_result"
    }
   ],
   "source": [
    "latex((A - 3* identity_matrix(3)))"
   ]
  },
  {
   "cell_type": "code",
   "execution_count": 17,
   "id": "406d24f9",
   "metadata": {},
   "outputs": [
    {
     "data": {
      "text/plain": [
       "\\left(\\begin{array}{rrr}\n",
       "2 & 0 & -7 \\\\\n",
       "0 & 2 & 4 \\\\\n",
       "-1 & -1 & 1\n",
       "\\end{array}\\right)"
      ]
     },
     "execution_count": 17,
     "metadata": {},
     "output_type": "execute_result"
    }
   ],
   "source": [
    "B = Matrix([[2,0,-7],[0,2,4],[-1,-1,1]])\n",
    "latex(B)"
   ]
  },
  {
   "cell_type": "code",
   "execution_count": 18,
   "id": "78aefd45",
   "metadata": {},
   "outputs": [
    {
     "data": {
      "text/plain": [
       "\\left(\\begin{array}{rrr}\n",
       "16 & 25 & 0 \\\\\n",
       "-9 & -14 & 0 \\\\\n",
       "0 & 0 & 3\n",
       "\\end{array}\\right)"
      ]
     },
     "execution_count": 18,
     "metadata": {},
     "output_type": "execute_result"
    }
   ],
   "source": [
    "latex(B.inverse()*A*B)"
   ]
  },
  {
   "cell_type": "code",
   "execution_count": 19,
   "id": "3074ecce",
   "metadata": {},
   "outputs": [
    {
     "data": {
      "text/plain": [
       "\\left(\\begin{array}{rr}\n",
       "15 & 25 \\\\\n",
       "-9 & -15\n",
       "\\end{array}\\right)"
      ]
     },
     "execution_count": 19,
     "metadata": {},
     "output_type": "execute_result"
    }
   ],
   "source": [
    "latex(Matrix([[15,25],[-9,-15]]))"
   ]
  },
  {
   "cell_type": "code",
   "execution_count": 9,
   "id": "24bb065e",
   "metadata": {},
   "outputs": [
    {
     "data": {
      "text/plain": [
       "[0 0]\n",
       "[0 0]"
      ]
     },
     "execution_count": 9,
     "metadata": {},
     "output_type": "execute_result"
    }
   ],
   "source": [
    "T^2"
   ]
  },
  {
   "cell_type": "code",
   "execution_count": null,
   "id": "31db5d9b",
   "metadata": {},
   "outputs": [],
   "source": []
  }
 ],
 "metadata": {
  "kernelspec": {
   "display_name": "SageMath 9.5",
   "language": "sage",
   "name": "sagemath-9.5"
  },
  "language_info": {
   "codemirror_mode": {
    "name": "ipython",
    "version": 3
   },
   "file_extension": ".py",
   "mimetype": "text/x-python",
   "name": "python",
   "nbconvert_exporter": "python",
   "pygments_lexer": "ipython3",
   "version": "3.9.9"
  }
 },
 "nbformat": 4,
 "nbformat_minor": 5
}
