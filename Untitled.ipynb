{
 "cells": [
  {
   "cell_type": "code",
   "execution_count": null,
   "id": "2586ddcd",
   "metadata": {},
   "outputs": [],
   "source": [
    "A = matrix[[25,34,18],[-14,-19,-10],[-4,-6,-1]]"
   ]
  },
  {
   "cell_type": "code",
   "execution_count": null,
   "id": "a9e4f003",
   "metadata": {},
   "outputs": [],
   "source": [
    "print(A)"
   ]
  },
  {
   "cell_type": "code",
   "execution_count": null,
   "id": "0946c419",
   "metadata": {},
   "outputs": [],
   "source": []
  }
 ],
 "metadata": {
  "kernelspec": {
   "display_name": "SageMath 9.5",
   "language": "sage",
   "name": "sagemath-9.5"
  }
 },
 "nbformat": 4,
 "nbformat_minor": 5
}
