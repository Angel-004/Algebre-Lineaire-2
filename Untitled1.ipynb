{
 "cells": [
  {
   "cell_type": "code",
   "execution_count": null,
   "id": "124b5ea7",
   "metadata": {},
   "outputs": [],
   "source": []
  }
 ],
 "metadata": {
  "kernelspec": {
   "display_name": "SageMath 9.5",
   "language": "sage",
   "name": "sagemath-9.5"
  }
 },
 "nbformat": 4,
 "nbformat_minor": 5
}
